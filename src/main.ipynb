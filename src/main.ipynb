{
 "cells": [
  {
   "cell_type": "markdown",
   "id": "3798ae76",
   "metadata": {},
   "source": [
    "# Statistická práce"
   ]
  },
  {
   "cell_type": "markdown",
   "id": "86533d32",
   "metadata": {},
   "source": [
    "## Použitá data\n",
    "\n",
    "Jako dataset používám dataset \"ilc_di08\" z Eurostatu, který obsahuje informace o mediánovém a průměrném ročním příjmu v závislosti na:\n",
    "- zemi (evropské státy)\n",
    "- roce (2005 - 2023)\n",
    "- úrovni vzdělání (ED0-2, ED3-4, ED5-8 podle ISCED)\n",
    "- věkové skupině (plánuji se zaměřit na 18–64 let)\n",
    "- pohlaví\n",
    "\n",
    "Státy:\n",
    "- `CZ` - Česká republika\n",
    "- `DE` - Německo\n",
    "- `EU` - Evropa, průměr\n",
    "- `UK` - Velká Británie\n",
    "- `CH` - Švýčarsko\n",
    "- `SE` - Serbsko\n",
    "- `HU` - Maďarsko\n",
    "- etc.\n",
    "\n",
    "Úrovně vzdělání:\n",
    "- `ED0-2` - Early childhood education - Lower secondary education\n",
    "- `ED3_4` - Upper secondary education - Post-secondary non-tertiary education\n",
    "- `ED5-8` - Short-cycle tertiary education - Doctoral or equivalent level\n",
    "\n",
    "Věkové skupiny:\n",
    "- `Y18-64` - od 18 do 64 let\n",
    "- `Y_GE18` - od 18 let\n",
    "- `Y_GE65` - od 65 let\n",
    "\n",
    "Pohlaví:\n",
    "- `F` - ženy\n",
    "- `M` - muži\n",
    "- `T` - všichni\n",
    "\n",
    "Příjem:\n",
    "- `MED_E` - průměrný\n",
    "- `MEI_E` - mediánový\n",
    "\n",
    "Měny:\n",
    "- `EUR` - eura\n",
    "- `NAC` - měna zemi\n",
    "- `PPS` - pps"
   ]
  }
 ],
 "metadata": {
  "language_info": {
   "name": "python"
  }
 },
 "nbformat": 4,
 "nbformat_minor": 5
}
