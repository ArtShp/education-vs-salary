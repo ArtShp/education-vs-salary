{
 "cells": [
  {
   "cell_type": "markdown",
   "id": "3798ae76",
   "metadata": {},
   "source": [
    "# Statistická práce"
   ]
  },
  {
   "cell_type": "markdown",
   "id": "86533d32",
   "metadata": {},
   "source": [
    "## Použitá data\n",
    "\n",
    "Jako dataset používám dataset \"ilc_di08\" z Eurostatu, který obsahuje informace o mediánovém a průměrném ročním příjmu v závislosti na:\n",
    "- zemi (evropské státy)\n",
    "- roce (2005 - 2023)\n",
    "- úrovni vzdělání (ED0-2, ED3-4, ED5-8 podle ISCED)\n",
    "- věkové skupině (plánuji se zaměřit na 18–64 let)\n",
    "- pohlaví\n",
    "\n",
    "### Přehled dat\n",
    "\n",
    "Státy:\n",
    "- `CZ` - Česká republika\n",
    "- `DE` - Německo\n",
    "- `EU` - Evropa, průměr\n",
    "- `UK` - Velká Británie\n",
    "- `CH` - Švýčarsko\n",
    "- `RS` - Srbsko\n",
    "- `HU` - Maďarsko\n",
    "- atd.\n",
    "\n",
    "Úrovně vzdělání:\n",
    "- `ED0-2` - Early childhood education - Lower secondary education\n",
    "- `ED3_4` - Upper secondary education - Post-secondary non-tertiary education\n",
    "- `ED5-8` - Short-cycle tertiary education - Doctoral or equivalent level\n",
    "\n",
    "Věkové skupiny:\n",
    "- `Y18-64` - od 18 do 64 let\n",
    "- `Y_GE18` - od 18 let\n",
    "- `Y_GE65` - od 65 let\n",
    "\n",
    "Pohlaví:\n",
    "- `F` - ženy\n",
    "- `M` - muži\n",
    "- `T` - všichni\n",
    "\n",
    "Příjem:\n",
    "- `MED_E` - průměrný\n",
    "- `MEI_E` - mediánový\n",
    "\n",
    "Měny:\n",
    "- `EUR` - eura\n",
    "- `NAC` - měna zemi\n",
    "- `PPS` - pps"
   ]
  },
  {
   "cell_type": "markdown",
   "id": "edb33e03",
   "metadata": {},
   "source": [
    "## Popis zadání\n",
    "\n",
    "Chtěl bych zjistit, jak silně koreluje úroveň vzdělání s příjmem v různých zemích (např. Česko, Německo, EU průměr) a jak se tato korelace vyvíjí v čase.\n",
    "\n",
    "Plánovaná metodologie: Lineární regrese.\n",
    "\n",
    "Také bych chtěl otestovat hypotézu, zda výše vzdělání hraje v příjmu větší roli v bohatších částech Evropy (např., Německo, Svýčarsko a Dansko), než v chudších částech Evropy (např., Maďarsko, Srbsko a Česká republika)."
   ]
  },
  {
   "cell_type": "markdown",
   "id": "077f1c17",
   "metadata": {},
   "source": [
    "## Knihovny"
   ]
  },
  {
   "cell_type": "code",
   "execution_count": null,
   "id": "842e8fcb",
   "metadata": {},
   "outputs": [],
   "source": [
    "import pandas as pd\n",
    "import numpy as np\n",
    "from sklearn.linear_model import LinearRegression\n",
    "import matplotlib.pyplot as plt\n",
    "from scipy.stats import ttest_ind\n",
    "import warnings"
   ]
  },
  {
   "cell_type": "markdown",
   "id": "f2f0d051",
   "metadata": {},
   "source": [
    "## Read data"
   ]
  },
  {
   "cell_type": "code",
   "execution_count": null,
   "id": "1bf29528",
   "metadata": {},
   "outputs": [],
   "source": [
    "df = pd.read_csv(\"../data/estat_ilc_di08.tsv\", sep=\"\\t\", na_values=\": \")"
   ]
  },
  {
   "cell_type": "markdown",
   "id": "a347b989",
   "metadata": {},
   "source": [
    "## Lineární regrese"
   ]
  },
  {
   "cell_type": "markdown",
   "id": "76c52b13",
   "metadata": {},
   "source": [
    "### Common"
   ]
  },
  {
   "cell_type": "code",
   "execution_count": null,
   "id": "e7847d94",
   "metadata": {},
   "outputs": [],
   "source": [
    "education_mapping = {\n",
    "    \"ED0-2\": 1,\n",
    "    \"ED3_4\": 2,\n",
    "    \"ED5-8\": 3,\n",
    "}\n",
    "\n",
    "def do_statistics(country, country_code):\n",
    "    # list of row identifiers\n",
    "    keys = [\n",
    "        f\"A,MEI_E,EUR,ED0-2,T,Y18-64,{country_code}\",\n",
    "        f\"A,MEI_E,EUR,ED3_4,T,Y18-64,{country_code}\",\n",
    "        f\"A,MEI_E,EUR,ED5-8,T,Y18-64,{country_code}\",\n",
    "    ]\n",
    "\n",
    "    first_col = df.columns[0]\n",
    "\n",
    "    # filter dataframe for these first-column values\n",
    "    df_filtered = df[df[first_col].isin(keys)]\n",
    "\n",
    "    df_filtered = df_filtered.copy()\n",
    "    df_filtered[first_col] = df_filtered[first_col].str.split(\",\").str[3].map(education_mapping)\n",
    "    df_filtered.rename(columns={first_col: \"education\"}, inplace=True)\n",
    "\n",
    "    df_triples = df_filtered.melt(id_vars=\"education\", var_name=\"year\", value_name=\"value\").dropna(subset=[\"value\"])\n",
    "\n",
    "    # convert year and value to integers\n",
    "    df_triples[\"year\"] = df_triples[\"year\"].astype(int)\n",
    "    df_triples[\"value\"] = df_triples[\"value\"].map(lambda x: x.split()[0]).astype(int)\n",
    "\n",
    "    # prepare feature matrix x and target vector y as integer arrays\n",
    "    x = df_triples[[\"education\", \"year\"]].values\n",
    "    y = df_triples[\"value\"].values\n",
    "\n",
    "    model = LinearRegression(n_jobs=-1).fit(x, y)\n",
    "    print(f\"Coefficients (Education level, Year): {model.coef_}\")\n",
    "\n",
    "    # 1. Predicted vs actual average salary\n",
    "    min_val = df_triples[\"value\"].min()\n",
    "    max_val = df_triples[\"value\"].max()\n",
    "    plt.figure(figsize=(14, 8))\n",
    "    for edu in sorted(df_triples[\"education\"].unique()):\n",
    "        df_edu = df_triples[df_triples[\"education\"] == edu]\n",
    "        x_edu = df_edu[[\"year\"]].values\n",
    "        y_edu = df_edu[\"value\"].values\n",
    "        model_edu = LinearRegression(n_jobs=-1).fit(x_edu, y_edu)\n",
    "        y_pred_edu = model_edu.predict(x_edu)\n",
    "        print(f\"Coefficients (Year) for Education level {edu}: {model_edu.coef_}\")\n",
    "        plt.scatter(y_edu, y_pred_edu, label=f\"Education - {edu}\")\n",
    "    plt.plot([min_val, max_val], [min_val, max_val], \"r--\", label=\"Perfect Fit\")\n",
    "    plt.xlabel(\"Actual salary, EUR\")\n",
    "    plt.ylabel(\"Predicted salary, EUR\")\n",
    "    plt.title(f\"Regression: Actual vs Predicted salavy by Education Level, {country}\")\n",
    "    plt.legend()\n",
    "    plt.grid(True)\n",
    "    plt.show()\n",
    "\n",
    "    # 2. Average salary over years for each education level\n",
    "    df_avg = df_triples.groupby([\"year\", \"education\"])[\"value\"].first().unstack(\"education\")\n",
    "    plt.figure(figsize=(14, 8))\n",
    "    for edu in df_avg.columns:\n",
    "        plt.plot(df_avg.index, df_avg[edu], marker=\"o\", label=f\"Education - {edu}\")\n",
    "    plt.xlabel(\"Year\")\n",
    "    plt.ylabel(\"Average salary, EUR\")\n",
    "    plt.title(f\"Average salary by Year and Education level, {country}\")\n",
    "    plt.legend()\n",
    "    plt.xticks(df_avg.index)\n",
    "    plt.grid(True)\n",
    "    plt.show()\n",
    "\n",
    "    # 3. Predict next 5 years salary for each education level\n",
    "    max_year = df_triples[\"year\"].max()\n",
    "    future_years = list(range(max_year + 1, max_year + 6))\n",
    "    plt.figure(figsize=(14, 8))\n",
    "    for edu in df_avg.columns:\n",
    "        preds = model.predict(np.array([[edu, yr] for yr in future_years]))\n",
    "        plt.plot(future_years, preds, linestyle=\"--\", marker=\"x\", label=f\"Education - {edu}\")\n",
    "    plt.xlabel(\"Year\")\n",
    "    plt.ylabel(\"Average salary, EUR\")\n",
    "    plt.title(f\"Prediction of average salary, {country}\")\n",
    "    plt.xticks(future_years)\n",
    "    plt.grid(True)\n",
    "    plt.legend()\n",
    "    plt.show()"
   ]
  },
  {
   "cell_type": "markdown",
   "id": "ad7d4ad3",
   "metadata": {},
   "source": [
    "### Česká republika"
   ]
  },
  {
   "cell_type": "code",
   "execution_count": null,
   "id": "2e7040b7",
   "metadata": {},
   "outputs": [],
   "source": [
    "do_statistics(\"Czech Republic\", \"CZ\")"
   ]
  },
  {
   "cell_type": "markdown",
   "id": "6d09dce0",
   "metadata": {},
   "source": [
    "### Německo"
   ]
  },
  {
   "cell_type": "code",
   "execution_count": null,
   "id": "5f115591",
   "metadata": {},
   "outputs": [],
   "source": [
    "do_statistics(\"Germany\", \"DE\")"
   ]
  },
  {
   "cell_type": "markdown",
   "id": "eea2e048",
   "metadata": {},
   "source": [
    "### Evropa"
   ]
  },
  {
   "cell_type": "code",
   "execution_count": null,
   "id": "843d90ee",
   "metadata": {},
   "outputs": [],
   "source": [
    "do_statistics(\"Europe\", \"EU27_2020\")"
   ]
  },
  {
   "cell_type": "markdown",
   "id": "95346213",
   "metadata": {},
   "source": [
    "### Výsledek\n",
    "\n",
    "Je očividný z obrázků (a intuitivně), že příjem je v průměru vyšší pro lidi s vyšším vzděláním bez ohledu na stát nebo rok."
   ]
  },
  {
   "cell_type": "markdown",
   "id": "2bc3d9ed",
   "metadata": {},
   "source": [
    "## Testování hypotézy\n",
    "\n",
    "Za reprezentanty bohatší části Evropy zvolíme Německo, Dansko, Švýčarsko, Vélkou Británii a Francii.\n",
    "\n",
    "Za reprezentanty chydší části Evropy zvolíme Česko, Maďarsko, Srbsko, Bulharsko a Litvu.\n",
    "\n",
    "Hypotéza: průměrný faktor (příjem s vyšším / příjem se středním vzděláním) pro bohatší a chybší části Evropy se nelíší."
   ]
  },
  {
   "cell_type": "code",
   "execution_count": null,
   "id": "0db0c884",
   "metadata": {},
   "outputs": [],
   "source": [
    "warnings.filterwarnings(\"ignore\", category=UserWarning)\n",
    "\n",
    "rich_countries = [\"DE\", \"DK\", \"CH\", \"UK\", \"FR\"]\n",
    "poor_countries = [\"CZ\", \"HU\", \"RS\", \"BG\", \"LT\"]\n",
    "\n",
    "def do_statistics_2(countries):\n",
    "    first_col = df.columns[0]\n",
    "    records = []\n",
    "    for country_code in countries:\n",
    "        # list of row identifiers\n",
    "        keys = [\n",
    "            f\"A,MEI_E,EUR,ED0-2,T,Y18-64,{country_code}\",\n",
    "            f\"A,MEI_E,EUR,ED3_4,T,Y18-64,{country_code}\",\n",
    "            f\"A,MEI_E,EUR,ED5-8,T,Y18-64,{country_code}\",\n",
    "        ]\n",
    "\n",
    "        df_filtered = df[df[first_col].isin(keys)]\n",
    "\n",
    "        df_filtered = df_filtered.copy()\n",
    "        df_filtered[first_col] = df_filtered[first_col].str.split(\",\").str[3].map(education_mapping)\n",
    "        df_filtered.rename(columns={first_col: \"education\"}, inplace=True)\n",
    "\n",
    "        df_triples = df_filtered.melt(id_vars=\"education\", var_name=\"year\", value_name=\"value\").dropna(subset=[\"value\"])\n",
    "\n",
    "        # convert year and value to integers\n",
    "        df_triples[\"year\"] = df_triples[\"year\"].astype(int)\n",
    "        df_triples[\"value\"] = df_triples[\"value\"].map(lambda x: x.split()[0]).astype(int)\n",
    "\n",
    "        # average salary per year and education\n",
    "        df_avg = df_triples.groupby([\"year\", \"education\"])[\"value\"].mean().unstack()\n",
    "\n",
    "        # compute factor = high education / medium education\n",
    "        df_avg = df_avg.loc[:, [2, 3]].dropna()\n",
    "        df_avg[\"factor\"] = df_avg[3] / df_avg[2]\n",
    "        df_avg = df_avg.reset_index()[[\"year\", \"factor\"]]\n",
    "        df_avg[\"country\"] = country_code\n",
    "        \n",
    "        records.append(df_avg)\n",
    "\n",
    "    df_factors = pd.concat(records, ignore_index=True)\n",
    "    return df_factors.groupby(\"year\")[\"factor\"].mean().reset_index()\n",
    "\n",
    "rich_factors = do_statistics_2(rich_countries)[2:]\n",
    "poor_factors = do_statistics_2(poor_countries)\n",
    "\n",
    "# Independent two-sample t-test\n",
    "t_stat, p_value = ttest_ind(rich_factors[\"factor\"], poor_factors[\"factor\"])\n",
    "\n",
    "print(\"t-statistic:\", t_stat)\n",
    "print(\"p-value:\", p_value)\n",
    "\n",
    "rich_factors[\"group\"] = 0\n",
    "poor_factors[\"group\"] = 1\n",
    "summary = pd.concat([rich_factors, poor_factors], ignore_index=True)\n",
    "\n",
    "X = summary[[\"year\", \"group\"]].values\n",
    "y = summary[\"factor\"].values\n",
    "\n",
    "model = LinearRegression(n_jobs=-1).fit(X, y)\n",
    "\n",
    "print(\"Coefficients (Year, Education):\", model.coef_)\n",
    "\n",
    "years = np.array(sorted(summary[\"year\"].unique()) + list(range(2025, 2028)))\n",
    "\n",
    "plt.figure(figsize=(14, 8))\n",
    "\n",
    "# Predict for Poor group\n",
    "poor_X = pd.DataFrame({\"year\": years, \"group\": 1})\n",
    "poor_pred = model.predict(poor_X)\n",
    "plt.plot(years, poor_pred, label=\"Poor - Linear regression\", color=\"blue\")\n",
    "\n",
    "# Predict for Rich group\n",
    "rich_X = pd.DataFrame({\"year\": years, \"group_code\": 0})\n",
    "rich_pred = model.predict(rich_X)\n",
    "plt.plot(years, rich_pred, label=\"Rich - Linear regression\", color=\"green\")\n",
    "\n",
    "plt.scatter(list(range(2025, 2028)), rich_pred[-3:], marker=\"x\", label=\"Rich - Prediction\")\n",
    "plt.scatter(list(range(2025, 2028)), poor_pred[-3:], marker=\"x\", label=\"Poor - Prediction\")\n",
    "\n",
    "plt.plot(rich_factors[\"year\"], rich_factors[\"factor\"], marker=\"o\", label=\"Rich\")\n",
    "plt.plot(poor_factors[\"year\"], poor_factors[\"factor\"], marker=\"o\", label=\"Poor\")\n",
    "plt.xlabel(\"Year\")\n",
    "plt.ylabel(\"Average factor (High/Medium education salary)\")\n",
    "plt.title(\"Average factor by Year for Rich and Poor European countries\")\n",
    "plt.legend()\n",
    "plt.grid(True)\n",
    "plt.xticks(years)\n",
    "plt.show()\n"
   ]
  },
  {
   "cell_type": "markdown",
   "id": "c6206652",
   "metadata": {},
   "source": [
    "T-test ukazuje, že hypotézu máme zamitnout ($p$ hodnota je extrémně malá), tedy z toho plyne (a je zřejmý z obrázku nahoře) že vzdělání má větší vliv na příjem v chydších státech Evropy než v bohatších."
   ]
  }
 ],
 "metadata": {
  "kernelspec": {
   "display_name": ".venv",
   "language": "python",
   "name": "python3"
  },
  "language_info": {
   "codemirror_mode": {
    "name": "ipython",
    "version": 3
   },
   "file_extension": ".py",
   "mimetype": "text/x-python",
   "name": "python",
   "nbconvert_exporter": "python",
   "pygments_lexer": "ipython3",
   "version": "3.13.2"
  }
 },
 "nbformat": 4,
 "nbformat_minor": 5
}
